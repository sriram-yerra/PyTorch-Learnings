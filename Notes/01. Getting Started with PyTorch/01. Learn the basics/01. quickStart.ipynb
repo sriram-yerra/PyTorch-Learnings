{
 "cells": [
  {
   "cell_type": "markdown",
   "id": "8ad0cab8",
   "metadata": {},
   "source": [
    "### Learn the Basics"
   ]
  },
  {
   "cell_type": "markdown",
   "id": "8bd5f52e",
   "metadata": {},
   "source": [
    "### Source of this file\n",
    "https://docs.pytorch.org/tutorials/beginner/basics/quickstart_tutorial.html"
   ]
  },
  {
   "cell_type": "markdown",
   "id": "305fe8a1",
   "metadata": {},
   "source": [
    "Most machine learning workflows involve working with data, creating models, optimizing model parameters, and saving the trained models. This tutorial introduces you to a complete ML workflow implemented in PyTorch, with links to learn more about each of these concepts.\n",
    "\n",
    "We’ll use the FashionMNIST dataset to train a neural network that predicts if an input image belongs to one of the following classes: T-shirt/top, Trouser, Pullover, Dress, Coat, Sandal, Shirt, Sneaker, Bag, or Ankle boot."
   ]
  },
  {
   "cell_type": "markdown",
   "id": "acc57ee0",
   "metadata": {},
   "source": [
    "### Quickstart"
   ]
  },
  {
   "cell_type": "markdown",
   "id": "958abee7",
   "metadata": {},
   "source": [
    "This section runs through the API for common tasks in machine learning. Refer to the links in each section to dive deeper."
   ]
  },
  {
   "cell_type": "markdown",
   "id": "19dc00b8",
   "metadata": {},
   "source": [
    "### Working with data"
   ]
  },
  {
   "cell_type": "markdown",
   "id": "834602b0",
   "metadata": {},
   "source": [
    "PyTorch has two primitives to work with data: torch.utils.data.DataLoader and torch.utils.data.Dataset. Dataset stores the samples and their corresponding labels, and DataLoader wraps an iterable around the Dataset."
   ]
  },
  {
   "cell_type": "code",
   "execution_count": 3,
   "id": "8dc2b82c",
   "metadata": {},
   "outputs": [],
   "source": [
    "import torch\n",
    "from torch import nn\n",
    "from torch.utils.data import DataLoader\n",
    "from torchvision import datasets\n",
    "from torchvision.transforms import ToTensor"
   ]
  },
  {
   "cell_type": "markdown",
   "id": "4abaa5bc",
   "metadata": {},
   "source": [
    "PyTorch offers domain-specific libraries such as TorchText, TorchVision, and TorchAudio, all of which include datasets. For this tutorial, we will be using a TorchVision dataset.\n",
    "\n",
    "The torchvision.datasets module contains Dataset objects for many real-world vision data like CIFAR, COCO (full list here). In this tutorial, we use the FashionMNIST dataset. Every TorchVision Dataset includes two arguments: transform and target_transform to modify the samples and labels respectively."
   ]
  },
  {
   "cell_type": "code",
   "execution_count": 5,
   "id": "af03c28d",
   "metadata": {},
   "outputs": [],
   "source": [
    "# Download training data from open datasets.\n",
    "training_data = datasets.FashionMNIST(\n",
    "    root=\"data\",\n",
    "    train=True,\n",
    "    download=True,\n",
    "    transform=ToTensor(),\n",
    ")\n",
    "\n",
    "# Download test data from open datasets.\n",
    "test_data = datasets.FashionMNIST(\n",
    "    root=\"data\",\n",
    "    train=False,\n",
    "    download=True,\n",
    "    transform=ToTensor(),\n",
    ")"
   ]
  },
  {
   "cell_type": "markdown",
   "id": "3a7be01d",
   "metadata": {},
   "source": [
    "We pass the Dataset as an argument to DataLoader. This wraps an iterable over our dataset, and supports automatic batching, sampling, shuffling and multiprocess data loading. Here we define a batch size of 64, i.e. each element in the dataloader iterable will return a batch of 64 features and labels."
   ]
  },
  {
   "cell_type": "code",
   "execution_count": 7,
   "id": "a4f2f62f",
   "metadata": {},
   "outputs": [
    {
     "name": "stdout",
     "output_type": "stream",
     "text": [
      "Shape of X [N, C, H, W]: torch.Size([64, 1, 28, 28])\n",
      "Shape of y: torch.Size([64]) torch.int64\n"
     ]
    }
   ],
   "source": [
    "batch_size = 64\n",
    "\n",
    "# Create data loaders.\n",
    "train_dataloader = DataLoader(training_data, batch_size=batch_size)\n",
    "test_dataloader = DataLoader(test_data, batch_size=batch_size)\n",
    "\n",
    "for X, y in test_dataloader:\n",
    "    print(f\"Shape of X [N, C, H, W]: {X.shape}\")\n",
    "    print(f\"Shape of y: {y.shape} {y.dtype}\")\n",
    "    break"
   ]
  },
  {
   "cell_type": "markdown",
   "id": "fff9ef4a",
   "metadata": {},
   "source": [
    "### Creating Models"
   ]
  },
  {
   "cell_type": "markdown",
   "id": "787648e7",
   "metadata": {},
   "source": [
    "1. To define a neural network in PyTorch, we create a class that inherits from nn.Module. We define the layers of the network in the __init__ function and specify how data will pass through the network in the forward function.\n",
    "\n",
    "2. To accelerate operations in the neural network, we move it to the accelerator such as CUDA, MPS, MTIA, or XPU. If the current accelerator is available, we will use it. Otherwise, we use the CPU."
   ]
  },
  {
   "cell_type": "markdown",
   "id": "0a84afb9",
   "metadata": {},
   "source": [
    "0. For, Build the Neural Network\n",
    "https://docs.pytorch.org/tutorials/beginner/basics/buildmodel_tutorial.html"
   ]
  },
  {
   "cell_type": "markdown",
   "id": "eac21ad4",
   "metadata": {},
   "source": [
    "1. For accelerator\n",
    "https://docs.pytorch.org/docs/stable/generated/torch.accelerator.current_accelerator.html#torch.accelerator.current_accelerator\n",
    "2. For Module\n",
    "https://docs.pytorch.org/docs/stable/generated/torch.nn.Module.html#torch.nn.Module\n",
    "3. For Flatten\n",
    "https://docs.pytorch.org/docs/stable/generated/torch.nn.Flatten.html#torch.nn.Flatten\n",
    "4. For Sequential\n",
    "https://docs.pytorch.org/docs/stable/generated/torch.nn.Sequential.html#torch.nn.Sequential\n",
    "5. For Linear\n",
    "https://docs.pytorch.org/docs/stable/generated/torch.nn.Linear.html#torch.nn.Linear\n",
    "6. For ReLU\n",
    "https://docs.pytorch.org/docs/stable/generated/torch.nn.ReLU.html#torch.nn.ReLU"
   ]
  },
  {
   "cell_type": "code",
   "execution_count": 8,
   "id": "08b94e12",
   "metadata": {},
   "outputs": [
    {
     "name": "stdout",
     "output_type": "stream",
     "text": [
      "Using cuda device\n",
      "NeuralNetwork(\n",
      "  (flatten): Flatten(start_dim=1, end_dim=-1)\n",
      "  (linear_relu_stack): Sequential(\n",
      "    (0): Linear(in_features=784, out_features=512, bias=True)\n",
      "    (1): ReLU()\n",
      "    (2): Linear(in_features=512, out_features=512, bias=True)\n",
      "    (3): ReLU()\n",
      "    (4): Linear(in_features=512, out_features=10, bias=True)\n",
      "  )\n",
      ")\n"
     ]
    }
   ],
   "source": [
    "device = torch.accelerator.current_accelerator().type if torch.accelerator.is_available() else \"cpu\"\n",
    "print(f\"Using {device} device\")\n",
    "\n",
    "# Define model\n",
    "class NeuralNetwork(nn.Module):\n",
    "    def __init__(self):\n",
    "        # to call the constructor of the super class\n",
    "        super().__init__()\n",
    "        self.flatten = nn.Flatten()\n",
    "        self.linear_relu_stack = nn.Sequential(\n",
    "            nn.Linear(28*28, 512),\n",
    "            nn.ReLU(),\n",
    "            nn.Linear(512, 512),\n",
    "            nn.ReLU(),\n",
    "            nn.Linear(512, 10)\n",
    "        )\n",
    "\n",
    "    def forward(self, x):\n",
    "        x = self.flatten(x)\n",
    "        logits = self.linear_relu_stack(x)\n",
    "        return logits\n",
    "\n",
    "model = NeuralNetwork().to(device)\n",
    "print(model)"
   ]
  },
  {
   "cell_type": "markdown",
   "id": "e67d8f27",
   "metadata": {},
   "source": [
    "### Optimizing the Model Parameters"
   ]
  },
  {
   "cell_type": "markdown",
   "id": "4e0086de",
   "metadata": {},
   "source": [
    "1. loss function\n",
    "https://pytorch.org/docs/stable/nn.html#loss-functions\n",
    "2. optimiser\n",
    "https://pytorch.org/docs/stable/optim.html"
   ]
  },
  {
   "cell_type": "code",
   "execution_count": 9,
   "id": "c1805d67",
   "metadata": {},
   "outputs": [],
   "source": [
    "loss_fn = nn.CrossEntropyLoss()\n",
    "optimizer = torch.optim.SGD(model.parameters(), lr=1e-3)"
   ]
  },
  {
   "cell_type": "markdown",
   "id": "20ed5614",
   "metadata": {},
   "source": [
    "In a single training loop, the model makes predictions on the training dataset (fed to it in batches), and backpropagates the prediction error to adjust the model’s parameters."
   ]
  },
  {
   "cell_type": "code",
   "execution_count": 10,
   "id": "ddb77db7",
   "metadata": {},
   "outputs": [],
   "source": [
    "def train(dataloader, model, loss_fn, optimizer):\n",
    "    size = len(dataloader.dataset)\n",
    "    model.train()\n",
    "    for batch, (X, y) in enumerate(dataloader):\n",
    "        X, y = X.to(device), y.to(device)\n",
    "\n",
    "        # Compute prediction error\n",
    "        pred = model(X)\n",
    "        loss = loss_fn(pred, y)\n",
    "\n",
    "        # Backpropagation\n",
    "        loss.backward()\n",
    "        optimizer.step()\n",
    "        optimizer.zero_grad()\n",
    "\n",
    "        if batch % 100 == 0:\n",
    "            loss, current = loss.item(), (batch + 1) * len(X)\n",
    "            print(f\"loss: {loss:>7f}  [{current:>5d}/{size:>5d}]\")"
   ]
  },
  {
   "cell_type": "markdown",
   "id": "ce879ba3",
   "metadata": {},
   "source": [
    "We also check the model’s performance against the test dataset to ensure it is learning."
   ]
  },
  {
   "cell_type": "code",
   "execution_count": 11,
   "id": "b8ddb49d",
   "metadata": {},
   "outputs": [],
   "source": [
    "def test(dataloader, model, loss_fn):\n",
    "    size = len(dataloader.dataset)\n",
    "    num_batches = len(dataloader)\n",
    "    model.eval()\n",
    "    test_loss, correct = 0, 0\n",
    "    with torch.no_grad():\n",
    "        for X, y in dataloader:\n",
    "            X, y = X.to(device), y.to(device)\n",
    "            pred = model(X)\n",
    "            test_loss += loss_fn(pred, y).item()\n",
    "            correct += (pred.argmax(1) == y).type(torch.float).sum().item()\n",
    "    test_loss /= num_batches\n",
    "    correct /= size\n",
    "    print(f\"Test Error: \\n Accuracy: {(100*correct):>0.1f}%, Avg loss: {test_loss:>8f} \\n\")"
   ]
  },
  {
   "cell_type": "markdown",
   "id": "3ba0bec7",
   "metadata": {},
   "source": [
    "The training process is conducted over several iterations (epochs). During each epoch, the model learns parameters to make better predictions. We print the model’s accuracy and loss at each epoch; we’d like to see the accuracy increase and the loss decrease with every epoch."
   ]
  },
  {
   "cell_type": "code",
   "execution_count": 12,
   "id": "be6317c3",
   "metadata": {},
   "outputs": [
    {
     "name": "stdout",
     "output_type": "stream",
     "text": [
      "Epoch 1\n",
      "-------------------------------\n",
      "loss: 2.303759  [   64/60000]\n",
      "loss: 2.293863  [ 6464/60000]\n",
      "loss: 2.276991  [12864/60000]\n",
      "loss: 2.270653  [19264/60000]\n",
      "loss: 2.244901  [25664/60000]\n",
      "loss: 2.224506  [32064/60000]\n",
      "loss: 2.228517  [38464/60000]\n",
      "loss: 2.191536  [44864/60000]\n",
      "loss: 2.192615  [51264/60000]\n",
      "loss: 2.159570  [57664/60000]\n",
      "Test Error: \n",
      " Accuracy: 44.2%, Avg loss: 2.152559 \n",
      "\n",
      "Epoch 2\n",
      "-------------------------------\n",
      "loss: 2.160088  [   64/60000]\n",
      "loss: 2.153923  [ 6464/60000]\n",
      "loss: 2.099620  [12864/60000]\n",
      "loss: 2.120730  [19264/60000]\n",
      "loss: 2.057470  [25664/60000]\n",
      "loss: 2.005750  [32064/60000]\n",
      "loss: 2.036290  [38464/60000]\n",
      "loss: 1.949521  [44864/60000]\n",
      "loss: 1.958984  [51264/60000]\n",
      "loss: 1.896419  [57664/60000]\n",
      "Test Error: \n",
      " Accuracy: 56.2%, Avg loss: 1.887276 \n",
      "\n",
      "Epoch 3\n",
      "-------------------------------\n",
      "loss: 1.914180  [   64/60000]\n",
      "loss: 1.890138  [ 6464/60000]\n",
      "loss: 1.773739  [12864/60000]\n",
      "loss: 1.820970  [19264/60000]\n",
      "loss: 1.699471  [25664/60000]\n",
      "loss: 1.659669  [32064/60000]\n",
      "loss: 1.682486  [38464/60000]\n",
      "loss: 1.568008  [44864/60000]\n",
      "loss: 1.599508  [51264/60000]\n",
      "loss: 1.501442  [57664/60000]\n",
      "Test Error: \n",
      " Accuracy: 59.3%, Avg loss: 1.512006 \n",
      "\n",
      "Epoch 4\n",
      "-------------------------------\n",
      "loss: 1.578218  [   64/60000]\n",
      "loss: 1.543828  [ 6464/60000]\n",
      "loss: 1.393303  [12864/60000]\n",
      "loss: 1.468611  [19264/60000]\n",
      "loss: 1.339285  [25664/60000]\n",
      "loss: 1.344120  [32064/60000]\n",
      "loss: 1.354745  [38464/60000]\n",
      "loss: 1.263594  [44864/60000]\n",
      "loss: 1.307373  [51264/60000]\n",
      "loss: 1.210483  [57664/60000]\n",
      "Test Error: \n",
      " Accuracy: 62.3%, Avg loss: 1.238223 \n",
      "\n",
      "Epoch 5\n",
      "-------------------------------\n",
      "loss: 1.319205  [   64/60000]\n",
      "loss: 1.298506  [ 6464/60000]\n",
      "loss: 1.136604  [12864/60000]\n",
      "loss: 1.241684  [19264/60000]\n",
      "loss: 1.112720  [25664/60000]\n",
      "loss: 1.144074  [32064/60000]\n",
      "loss: 1.161099  [38464/60000]\n",
      "loss: 1.082955  [44864/60000]\n",
      "loss: 1.129761  [51264/60000]\n",
      "loss: 1.049688  [57664/60000]\n",
      "Test Error: \n",
      " Accuracy: 64.3%, Avg loss: 1.074852 \n",
      "\n",
      "Done!\n"
     ]
    }
   ],
   "source": [
    "epochs = 5\n",
    "for t in range(epochs):\n",
    "    print(f\"Epoch {t+1}\\n-------------------------------\")\n",
    "    train(train_dataloader, model, loss_fn, optimizer)\n",
    "    test(test_dataloader, model, loss_fn)\n",
    "print(\"Done!\")"
   ]
  },
  {
   "cell_type": "markdown",
   "id": "846a3f33",
   "metadata": {},
   "source": [
    "0. Training your Model\n",
    "https://docs.pytorch.org/tutorials/beginner/basics/optimization_tutorial.html"
   ]
  },
  {
   "cell_type": "markdown",
   "id": "6915ea56",
   "metadata": {},
   "source": [
    "### Saving Models\n",
    "\n",
    "1. save()\n",
    "https://docs.pytorch.org/docs/stable/generated/torch.save.html#torch.save\n",
    "\n",
    "2. state_dict()\n",
    "https://docs.pytorch.org/docs/stable/generated/torch.nn.Module.html#torch.nn.Module.state_dict"
   ]
  },
  {
   "cell_type": "markdown",
   "id": "0c98d6c9",
   "metadata": {},
   "source": [
    "A common way to save a model is to serialize the internal state dictionary (containing the model parameters)."
   ]
  },
  {
   "cell_type": "code",
   "execution_count": 13,
   "id": "8d92d3cd",
   "metadata": {},
   "outputs": [
    {
     "name": "stdout",
     "output_type": "stream",
     "text": [
      "Saved PyTorch Model State to model.pth\n"
     ]
    }
   ],
   "source": [
    "torch.save(model.state_dict(), \"model.pth\")\n",
    "print(\"Saved PyTorch Model State to model.pth\")"
   ]
  },
  {
   "cell_type": "markdown",
   "id": "dace6de6",
   "metadata": {},
   "source": [
    "### Loading Models\n",
    "\n",
    "1. Neural Network\n",
    "https://docs.pytorch.org/docs/stable/generated/torch.nn.Module.html#torch.nn.Module\n",
    "2. load_state_dict()\n",
    "https://docs.pytorch.org/docs/stable/generated/torch.nn.Module.html#torch.nn.Module.load_state_dict\n",
    "3. torch.loaf()\n",
    "https://docs.pytorch.org/docs/stable/generated/torch.load.html#torch.load"
   ]
  },
  {
   "cell_type": "markdown",
   "id": "7782c78f",
   "metadata": {},
   "source": [
    "The process for loading a model includes re-creating the model structure and loading the state dictionary into it."
   ]
  },
  {
   "cell_type": "code",
   "execution_count": 14,
   "id": "0a47a077",
   "metadata": {},
   "outputs": [
    {
     "data": {
      "text/plain": [
       "<All keys matched successfully>"
      ]
     },
     "execution_count": 14,
     "metadata": {},
     "output_type": "execute_result"
    }
   ],
   "source": [
    "model = NeuralNetwork().to(device)\n",
    "model.load_state_dict(torch.load(\"model.pth\", weights_only=True))"
   ]
  },
  {
   "cell_type": "markdown",
   "id": "4a70ac6b",
   "metadata": {},
   "source": [
    "### This model can now be used to make predictions."
   ]
  },
  {
   "cell_type": "code",
   "execution_count": 15,
   "id": "20562d39",
   "metadata": {},
   "outputs": [
    {
     "name": "stdout",
     "output_type": "stream",
     "text": [
      "Predicted: \"Ankle boot\", Actual: \"Ankle boot\"\n"
     ]
    }
   ],
   "source": [
    "classes = [\n",
    "    \"T-shirt/top\",\n",
    "    \"Trouser\",\n",
    "    \"Pullover\",\n",
    "    \"Dress\",\n",
    "    \"Coat\",\n",
    "    \"Sandal\",\n",
    "    \"Shirt\",\n",
    "    \"Sneaker\",\n",
    "    \"Bag\",\n",
    "    \"Ankle boot\",\n",
    "]\n",
    "\n",
    "model.eval()\n",
    "x, y = test_data[0][0], test_data[0][1]\n",
    "with torch.no_grad():\n",
    "    x = x.to(device)\n",
    "    pred = model(x)\n",
    "    predicted, actual = classes[pred[0].argmax(0)], classes[y]\n",
    "    print(f'Predicted: \"{predicted}\", Actual: \"{actual}\"')"
   ]
  },
  {
   "cell_type": "markdown",
   "id": "f943d394",
   "metadata": {},
   "source": [
    "### More about saving and loading the model\n",
    "\n",
    "https://docs.pytorch.org/tutorials/beginner/basics/saveloadrun_tutorial.html"
   ]
  },
  {
   "cell_type": "markdown",
   "id": "3451e830",
   "metadata": {},
   "source": []
  }
 ],
 "metadata": {
  "kernelspec": {
   "display_name": "Python (myenv)",
   "language": "python",
   "name": "myenv"
  },
  "language_info": {
   "codemirror_mode": {
    "name": "ipython",
    "version": 3
   },
   "file_extension": ".py",
   "mimetype": "text/x-python",
   "name": "python",
   "nbconvert_exporter": "python",
   "pygments_lexer": "ipython3",
   "version": "3.12.3"
  }
 },
 "nbformat": 4,
 "nbformat_minor": 5
}
